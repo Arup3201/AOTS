{
  "cells": [
    {
      "cell_type": "markdown",
      "metadata": {
        "id": "view-in-github",
        "colab_type": "text"
      },
      "source": [
        "<a href=\"https://colab.research.google.com/github/Arup3201/AOTS/blob/main/notebooks/experimental-notebook.ipynb\" target=\"_parent\"><img src=\"https://colab.research.google.com/assets/colab-badge.svg\" alt=\"Open In Colab\"/></a>"
      ]
    },
    {
      "cell_type": "markdown",
      "metadata": {
        "id": "iRCbrXUgn_wC"
      },
      "source": [
        "# AOTS: Automated Object Tracking System\n",
        "\n",
        "**An automated system to track multiple objects in a live video using state-of-the-art techniques of computer vision.**"
      ]
    },
    {
      "cell_type": "markdown",
      "metadata": {
        "id": "Qiuj2UDpn_wI"
      },
      "source": []
    }
  ],
  "metadata": {
    "language_info": {
      "name": "python"
    },
    "orig_nbformat": 4,
    "colab": {
      "provenance": [],
      "include_colab_link": true
    }
  },
  "nbformat": 4,
  "nbformat_minor": 0
}